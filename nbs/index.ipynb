{
 "cells": [
  {
   "cell_type": "markdown",
   "metadata": {},
   "source": [
    "# IfcOpenHouse\n",
    "\n",
    "> Recreation of the original IfcOpenHouse with the IfcOpenShell Python API"
   ]
  },
  {
   "cell_type": "markdown",
   "metadata": {},
   "source": [
    "More than 10 years ago, the original IfcOpenHouse was created by [Thomas Krijnen](https://github.com/aothms) by using the [IfcOpenShell library](https://ifcopenshell.org/). It consists of a single story building with a gable roof, sitting on top of a NURBS surface. It includes a footing, walls with openings for doors and windows, a roof... but above all, it gives an overview about how to programmatically build a simple IFC model from scratch.\n",
    "\n",
    "Check out the original blog post, as well as the C++ source if interested:\n",
    "\n",
    "[http://blog.ifcopenshell.org/2012/11/say-hi-to-ifcopenhouse.html](http://blog.ifcopenshell.org/2012/11/say-hi-to-ifcopenhouse.html)\n",
    "\n",
    "[https://github.com/IfcOpenShell/IfcOpenShell/blob/master/src/examples/IfcOpenHouse.cpp](https://github.com/IfcOpenShell/IfcOpenShell/blob/master/src/examples/IfcOpenHouse.cpp)\n",
    "\n",
    "The current repository is an exercise to recreate that same model, but with the recent higher level [IfcOpenShell Python API](https://blenderbim.org/docs-python/autoapi/index.html). This same API is widely used today in the native IFC editing approach followed by BIM authoring software like [BlenderBIM](https://blenderbim.org/) and [FreeCAD](https://www.freecad.org/), among others. At the end, there's also a visualization cell with [IFC.js](https://ifcjs.github.io/info/), the BIM toolkit for JavaScript.\n",
    "\n",
    "It is a basic tutorial, but some basic IFC and Python knowledge is required, as well as some basic trigonometry for the sizes and coordinates. One of the goals is to show how powerful Jupyter Notebooks can be as an experimentation playground. Note that this notebook uses [nbdev directives](https://nbdev.fast.ai/explanations/directives.html) to automate the production of a script and a Quarto website, as well as helping with [Git-friendly Jupyter](https://nbdev.fast.ai/tutorials/git_friendly_jupyter.html)."
   ]
  },
  {
   "cell_type": "markdown",
   "metadata": {},
   "source": [
    "## Generation"
   ]
  },
  {
   "cell_type": "markdown",
   "metadata": {},
   "source": [
    "Go to [generation](00_generation.ipynb) in order to find the extensive instructions for the IfcOpenHouse generation."
   ]
  },
  {
   "cell_type": "markdown",
   "metadata": {},
   "source": [
    "## Install"
   ]
  },
  {
   "cell_type": "markdown",
   "metadata": {},
   "source": [
    "These set of notebooks may be conveniently browsed through their Quarto website, or alternatively be run on your own end by cloning the repository. For the latter, follow these installation instructions.\n",
    "\n",
    "The repository contains a Python package. Hence, after cloning it, you may run the following command to install all dependencies."
   ]
  },
  {
   "cell_type": "markdown",
   "metadata": {},
   "source": [
    "```sh\n",
    "pip install -e .\n",
    "```"
   ]
  },
  {
   "cell_type": "markdown",
   "metadata": {},
   "source": [
    "Using the editable flag `-e`, you will be able to use any further changes you make to the package immediately."
   ]
  },
  {
   "cell_type": "markdown",
   "metadata": {},
   "source": [
    "Use dark mode if you wish (see [jupyter-themes](https://github.com/dunovank/jupyter-themes#user-content-command-line-examples) for more info):"
   ]
  },
  {
   "cell_type": "markdown",
   "metadata": {},
   "source": [
    "```sh\n",
    "jt -t chesterish -T -N -kl\n",
    "```"
   ]
  },
  {
   "cell_type": "markdown",
   "metadata": {},
   "source": [
    "You may also want to edit the JavaScript code for the model preview by running `npm i` from the `viz` directory and regenerate the bundle with either `npm run build` or `npm run watch`."
   ]
  },
  {
   "cell_type": "code",
   "execution_count": null,
   "metadata": {},
   "outputs": [],
   "source": []
  }
 ],
 "metadata": {
  "kernelspec": {
   "display_name": "python3",
   "language": "python",
   "name": "python3"
  }
 },
 "nbformat": 4,
 "nbformat_minor": 4
}
